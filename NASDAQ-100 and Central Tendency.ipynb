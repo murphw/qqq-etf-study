{
 "cells": [
  {
   "cell_type": "markdown",
   "metadata": {},
   "source": [
    "## QQQ ETF and Central Tendency\n",
    "By Murph Whitaker\n",
    "***"
   ]
  },
  {
   "cell_type": "markdown",
   "metadata": {},
   "source": [
    "### Introduction\n",
    "The purpose of this notebook is to study historical maximal movement of QQQ (NASDAQ-100 ETF) above and below the 50-day moving average. The 50-day line, a measure of central tendency, is a key technical tool favored by professional and retail speculators in making buy and sell decisions, e.g., exiting a long position at some point above the 50-day line, entering a long positon at some point below the line, or establishing a position at the line. Understanding how far prices move away from the mean may give the speculator reasonable expectations on where prices may revert to the mean."
   ]
  },
  {
   "cell_type": "markdown",
   "metadata": {},
   "source": [
    "> Reversion to the mean, also called regression to the mean, is the statistical phenomenon stating that the greater the deviation of a random variate from its mean, the greater the probability that the next measured variate will deviate less far. In other words, an extreme event is likely to be followed by a less extreme event. *[-Mathworld](http://mathworld.wolfram.com/ReversiontotheMean.html)*"
   ]
  },
  {
   "cell_type": "code",
   "execution_count": 1,
   "metadata": {},
   "outputs": [],
   "source": [
    "import numpy as np\n",
    "import pandas as pd\n",
    "import datetime\n",
    "import matplotlib.pyplot as plt\n",
    "import iexfinance\n",
    "from iexfinance import StockReader"
   ]
  },
  {
   "cell_type": "markdown",
   "metadata": {},
   "source": [
    "### Methodology\n",
    "This study uses time series closing price data of the NASDAQ-100 ETF, stock symbol QQQ, from 9/7/2013 to 9/7/2018. Calculation of the 50-day moving average and ratio of closing price distance away are accomplished in this notebook. Frequency of maximum and minimum observations: Year, month, and grand total.  Analysis of frequency was achieved using an excel pivot table with such data converted to a csv file for use in this notebook.   "
   ]
  },
  {
   "cell_type": "markdown",
   "metadata": {},
   "source": [
    "Query historical data"
   ]
  },
  {
   "cell_type": "code",
   "execution_count": 2,
   "metadata": {},
   "outputs": [],
   "source": [
    "start = datetime.datetime(2013, 10, 12)\n",
    "end = datetime.datetime(2018, 10, 12)\n",
    "from iexfinance import get_historical_data"
   ]
  },
  {
   "cell_type": "markdown",
   "metadata": {},
   "source": [
    "Input selected stock symbol, in this case, QQQ"
   ]
  },
  {
   "cell_type": "code",
   "execution_count": 3,
   "metadata": {},
   "outputs": [
    {
     "name": "stdout",
     "output_type": "stream",
     "text": [
      "Enter stock symbol: QQQ\n"
     ]
    },
    {
     "data": {
      "text/html": [
       "<div>\n",
       "<style scoped>\n",
       "    .dataframe tbody tr th:only-of-type {\n",
       "        vertical-align: middle;\n",
       "    }\n",
       "\n",
       "    .dataframe tbody tr th {\n",
       "        vertical-align: top;\n",
       "    }\n",
       "\n",
       "    .dataframe thead th {\n",
       "        text-align: right;\n",
       "    }\n",
       "</style>\n",
       "<table border=\"1\" class=\"dataframe\">\n",
       "  <thead>\n",
       "    <tr style=\"text-align: right;\">\n",
       "      <th></th>\n",
       "      <th>open</th>\n",
       "      <th>high</th>\n",
       "      <th>low</th>\n",
       "      <th>close</th>\n",
       "      <th>volume</th>\n",
       "    </tr>\n",
       "    <tr>\n",
       "      <th>date</th>\n",
       "      <th></th>\n",
       "      <th></th>\n",
       "      <th></th>\n",
       "      <th></th>\n",
       "      <th></th>\n",
       "    </tr>\n",
       "  </thead>\n",
       "  <tbody>\n",
       "    <tr>\n",
       "      <th>2018-10-08</th>\n",
       "      <td>179.37</td>\n",
       "      <td>180.6427</td>\n",
       "      <td>176.9300</td>\n",
       "      <td>179.05</td>\n",
       "      <td>66864481</td>\n",
       "    </tr>\n",
       "    <tr>\n",
       "      <th>2018-10-09</th>\n",
       "      <td>179.20</td>\n",
       "      <td>181.0200</td>\n",
       "      <td>178.7500</td>\n",
       "      <td>179.63</td>\n",
       "      <td>49097949</td>\n",
       "    </tr>\n",
       "    <tr>\n",
       "      <th>2018-10-10</th>\n",
       "      <td>178.53</td>\n",
       "      <td>178.6200</td>\n",
       "      <td>171.5000</td>\n",
       "      <td>171.73</td>\n",
       "      <td>114471052</td>\n",
       "    </tr>\n",
       "    <tr>\n",
       "      <th>2018-10-11</th>\n",
       "      <td>171.04</td>\n",
       "      <td>173.4000</td>\n",
       "      <td>167.8100</td>\n",
       "      <td>169.60</td>\n",
       "      <td>143084463</td>\n",
       "    </tr>\n",
       "    <tr>\n",
       "      <th>2018-10-12</th>\n",
       "      <td>173.99</td>\n",
       "      <td>174.8600</td>\n",
       "      <td>170.9328</td>\n",
       "      <td>174.32</td>\n",
       "      <td>102078388</td>\n",
       "    </tr>\n",
       "  </tbody>\n",
       "</table>\n",
       "</div>"
      ],
      "text/plain": [
       "              open      high       low   close     volume\n",
       "date                                                     \n",
       "2018-10-08  179.37  180.6427  176.9300  179.05   66864481\n",
       "2018-10-09  179.20  181.0200  178.7500  179.63   49097949\n",
       "2018-10-10  178.53  178.6200  171.5000  171.73  114471052\n",
       "2018-10-11  171.04  173.4000  167.8100  169.60  143084463\n",
       "2018-10-12  173.99  174.8600  170.9328  174.32  102078388"
      ]
     },
     "execution_count": 3,
     "metadata": {},
     "output_type": "execute_result"
    }
   ],
   "source": [
    "a = get_historical_data(input('Enter stock symbol: '), start, end, output_format = 'pandas')\n",
    "a.tail()"
   ]
  },
  {
   "cell_type": "markdown",
   "metadata": {},
   "source": [
    "Compute 50-day moving average"
   ]
  },
  {
   "cell_type": "code",
   "execution_count": 4,
   "metadata": {},
   "outputs": [],
   "source": [
    "a_50d = a['close'].rolling(50).mean()"
   ]
  },
  {
   "cell_type": "markdown",
   "metadata": {},
   "source": [
    "Compute ratio of closing prices to 50-day line to determine distance and add new column to dataset"
   ]
  },
  {
   "cell_type": "code",
   "execution_count": 5,
   "metadata": {},
   "outputs": [
    {
     "data": {
      "text/html": [
       "<div>\n",
       "<style scoped>\n",
       "    .dataframe tbody tr th:only-of-type {\n",
       "        vertical-align: middle;\n",
       "    }\n",
       "\n",
       "    .dataframe tbody tr th {\n",
       "        vertical-align: top;\n",
       "    }\n",
       "\n",
       "    .dataframe thead th {\n",
       "        text-align: right;\n",
       "    }\n",
       "</style>\n",
       "<table border=\"1\" class=\"dataframe\">\n",
       "  <thead>\n",
       "    <tr style=\"text-align: right;\">\n",
       "      <th></th>\n",
       "      <th>open</th>\n",
       "      <th>high</th>\n",
       "      <th>low</th>\n",
       "      <th>close</th>\n",
       "      <th>volume</th>\n",
       "      <th>a_dist50d</th>\n",
       "    </tr>\n",
       "    <tr>\n",
       "      <th>date</th>\n",
       "      <th></th>\n",
       "      <th></th>\n",
       "      <th></th>\n",
       "      <th></th>\n",
       "      <th></th>\n",
       "      <th></th>\n",
       "    </tr>\n",
       "  </thead>\n",
       "  <tbody>\n",
       "    <tr>\n",
       "      <th>2018-08-24</th>\n",
       "      <td>181.0744</td>\n",
       "      <td>182.3022</td>\n",
       "      <td>181.0345</td>\n",
       "      <td>182.1524</td>\n",
       "      <td>23136113</td>\n",
       "      <td>0.025856</td>\n",
       "    </tr>\n",
       "    <tr>\n",
       "      <th>2018-08-27</th>\n",
       "      <td>183.1007</td>\n",
       "      <td>184.0091</td>\n",
       "      <td>182.7813</td>\n",
       "      <td>184.0091</td>\n",
       "      <td>29343552</td>\n",
       "      <td>0.035412</td>\n",
       "    </tr>\n",
       "    <tr>\n",
       "      <th>2018-08-28</th>\n",
       "      <td>184.4683</td>\n",
       "      <td>184.6879</td>\n",
       "      <td>183.8893</td>\n",
       "      <td>184.2786</td>\n",
       "      <td>20277036</td>\n",
       "      <td>0.035985</td>\n",
       "    </tr>\n",
       "    <tr>\n",
       "      <th>2018-08-29</th>\n",
       "      <td>184.5781</td>\n",
       "      <td>186.5046</td>\n",
       "      <td>184.5282</td>\n",
       "      <td>186.4048</td>\n",
       "      <td>29175591</td>\n",
       "      <td>0.046676</td>\n",
       "    </tr>\n",
       "    <tr>\n",
       "      <th>2018-08-30</th>\n",
       "      <td>186.0754</td>\n",
       "      <td>187.1833</td>\n",
       "      <td>185.4565</td>\n",
       "      <td>186.0754</td>\n",
       "      <td>29315453</td>\n",
       "      <td>0.043755</td>\n",
       "    </tr>\n",
       "    <tr>\n",
       "      <th>2018-08-31</th>\n",
       "      <td>185.8458</td>\n",
       "      <td>186.8440</td>\n",
       "      <td>185.6462</td>\n",
       "      <td>186.3150</td>\n",
       "      <td>28653248</td>\n",
       "      <td>0.043820</td>\n",
       "    </tr>\n",
       "    <tr>\n",
       "      <th>2018-09-04</th>\n",
       "      <td>185.7660</td>\n",
       "      <td>186.0654</td>\n",
       "      <td>184.5182</td>\n",
       "      <td>185.5164</td>\n",
       "      <td>29063537</td>\n",
       "      <td>0.038123</td>\n",
       "    </tr>\n",
       "    <tr>\n",
       "      <th>2018-09-05</th>\n",
       "      <td>185.2169</td>\n",
       "      <td>185.2169</td>\n",
       "      <td>182.4918</td>\n",
       "      <td>183.1207</td>\n",
       "      <td>42623326</td>\n",
       "      <td>0.023336</td>\n",
       "    </tr>\n",
       "    <tr>\n",
       "      <th>2018-09-06</th>\n",
       "      <td>183.2105</td>\n",
       "      <td>183.4202</td>\n",
       "      <td>180.2559</td>\n",
       "      <td>181.4837</td>\n",
       "      <td>46091403</td>\n",
       "      <td>0.013087</td>\n",
       "    </tr>\n",
       "    <tr>\n",
       "      <th>2018-09-07</th>\n",
       "      <td>180.2059</td>\n",
       "      <td>182.3421</td>\n",
       "      <td>180.1161</td>\n",
       "      <td>180.7849</td>\n",
       "      <td>46629495</td>\n",
       "      <td>0.007908</td>\n",
       "    </tr>\n",
       "    <tr>\n",
       "      <th>2018-09-10</th>\n",
       "      <td>181.7931</td>\n",
       "      <td>181.9229</td>\n",
       "      <td>180.4006</td>\n",
       "      <td>181.3938</td>\n",
       "      <td>26131977</td>\n",
       "      <td>0.010119</td>\n",
       "    </tr>\n",
       "    <tr>\n",
       "      <th>2018-09-11</th>\n",
       "      <td>180.6452</td>\n",
       "      <td>183.0908</td>\n",
       "      <td>180.1960</td>\n",
       "      <td>182.7913</td>\n",
       "      <td>30116460</td>\n",
       "      <td>0.016605</td>\n",
       "    </tr>\n",
       "    <tr>\n",
       "      <th>2018-09-12</th>\n",
       "      <td>182.5417</td>\n",
       "      <td>182.6516</td>\n",
       "      <td>180.6851</td>\n",
       "      <td>182.2523</td>\n",
       "      <td>36203973</td>\n",
       "      <td>0.012508</td>\n",
       "    </tr>\n",
       "    <tr>\n",
       "      <th>2018-09-13</th>\n",
       "      <td>183.3403</td>\n",
       "      <td>184.5481</td>\n",
       "      <td>183.3105</td>\n",
       "      <td>184.1988</td>\n",
       "      <td>31133188</td>\n",
       "      <td>0.021765</td>\n",
       "    </tr>\n",
       "    <tr>\n",
       "      <th>2018-09-14</th>\n",
       "      <td>184.3285</td>\n",
       "      <td>184.6130</td>\n",
       "      <td>182.9310</td>\n",
       "      <td>183.6597</td>\n",
       "      <td>31224132</td>\n",
       "      <td>0.017528</td>\n",
       "    </tr>\n",
       "    <tr>\n",
       "      <th>2018-09-17</th>\n",
       "      <td>183.3303</td>\n",
       "      <td>183.4801</td>\n",
       "      <td>180.8448</td>\n",
       "      <td>181.0145</td>\n",
       "      <td>33071197</td>\n",
       "      <td>0.002237</td>\n",
       "    </tr>\n",
       "    <tr>\n",
       "      <th>2018-09-18</th>\n",
       "      <td>181.1942</td>\n",
       "      <td>183.4002</td>\n",
       "      <td>181.0744</td>\n",
       "      <td>182.5118</td>\n",
       "      <td>31877347</td>\n",
       "      <td>0.009897</td>\n",
       "    </tr>\n",
       "    <tr>\n",
       "      <th>2018-09-19</th>\n",
       "      <td>182.5318</td>\n",
       "      <td>182.9710</td>\n",
       "      <td>181.1842</td>\n",
       "      <td>182.3721</td>\n",
       "      <td>31843377</td>\n",
       "      <td>0.008524</td>\n",
       "    </tr>\n",
       "    <tr>\n",
       "      <th>2018-09-20</th>\n",
       "      <td>183.6198</td>\n",
       "      <td>184.6380</td>\n",
       "      <td>183.1905</td>\n",
       "      <td>184.3884</td>\n",
       "      <td>33295820</td>\n",
       "      <td>0.018741</td>\n",
       "    </tr>\n",
       "    <tr>\n",
       "      <th>2018-09-21</th>\n",
       "      <td>184.9374</td>\n",
       "      <td>185.1471</td>\n",
       "      <td>183.1507</td>\n",
       "      <td>183.3802</td>\n",
       "      <td>38605353</td>\n",
       "      <td>0.012696</td>\n",
       "    </tr>\n",
       "    <tr>\n",
       "      <th>2018-09-24</th>\n",
       "      <td>182.0500</td>\n",
       "      <td>183.9600</td>\n",
       "      <td>181.3000</td>\n",
       "      <td>183.8900</td>\n",
       "      <td>34945602</td>\n",
       "      <td>0.014995</td>\n",
       "    </tr>\n",
       "    <tr>\n",
       "      <th>2018-09-25</th>\n",
       "      <td>183.7800</td>\n",
       "      <td>184.2800</td>\n",
       "      <td>183.1800</td>\n",
       "      <td>184.1400</td>\n",
       "      <td>25277520</td>\n",
       "      <td>0.015783</td>\n",
       "    </tr>\n",
       "    <tr>\n",
       "      <th>2018-09-26</th>\n",
       "      <td>184.2500</td>\n",
       "      <td>185.9900</td>\n",
       "      <td>183.9050</td>\n",
       "      <td>184.2700</td>\n",
       "      <td>36210571</td>\n",
       "      <td>0.016016</td>\n",
       "    </tr>\n",
       "    <tr>\n",
       "      <th>2018-09-27</th>\n",
       "      <td>185.0400</td>\n",
       "      <td>186.4900</td>\n",
       "      <td>184.9200</td>\n",
       "      <td>185.8300</td>\n",
       "      <td>33113269</td>\n",
       "      <td>0.023914</td>\n",
       "    </tr>\n",
       "    <tr>\n",
       "      <th>2018-09-28</th>\n",
       "      <td>185.2500</td>\n",
       "      <td>186.2800</td>\n",
       "      <td>184.9700</td>\n",
       "      <td>185.7900</td>\n",
       "      <td>28076843</td>\n",
       "      <td>0.022896</td>\n",
       "    </tr>\n",
       "    <tr>\n",
       "      <th>2018-10-01</th>\n",
       "      <td>186.8200</td>\n",
       "      <td>187.5300</td>\n",
       "      <td>185.7000</td>\n",
       "      <td>186.1700</td>\n",
       "      <td>27371297</td>\n",
       "      <td>0.024142</td>\n",
       "    </tr>\n",
       "    <tr>\n",
       "      <th>2018-10-02</th>\n",
       "      <td>185.9500</td>\n",
       "      <td>187.1750</td>\n",
       "      <td>185.3200</td>\n",
       "      <td>185.7500</td>\n",
       "      <td>25618608</td>\n",
       "      <td>0.021100</td>\n",
       "    </tr>\n",
       "    <tr>\n",
       "      <th>2018-10-03</th>\n",
       "      <td>186.5200</td>\n",
       "      <td>186.9700</td>\n",
       "      <td>185.6600</td>\n",
       "      <td>185.9500</td>\n",
       "      <td>29128683</td>\n",
       "      <td>0.021528</td>\n",
       "    </tr>\n",
       "    <tr>\n",
       "      <th>2018-10-04</th>\n",
       "      <td>185.2200</td>\n",
       "      <td>185.3200</td>\n",
       "      <td>181.0600</td>\n",
       "      <td>182.3800</td>\n",
       "      <td>80557283</td>\n",
       "      <td>0.001929</td>\n",
       "    </tr>\n",
       "    <tr>\n",
       "      <th>2018-10-05</th>\n",
       "      <td>182.3900</td>\n",
       "      <td>182.9700</td>\n",
       "      <td>178.4300</td>\n",
       "      <td>180.1500</td>\n",
       "      <td>83325630</td>\n",
       "      <td>-0.010368</td>\n",
       "    </tr>\n",
       "    <tr>\n",
       "      <th>2018-10-08</th>\n",
       "      <td>179.3700</td>\n",
       "      <td>180.6427</td>\n",
       "      <td>176.9300</td>\n",
       "      <td>179.0500</td>\n",
       "      <td>66864481</td>\n",
       "      <td>-0.016600</td>\n",
       "    </tr>\n",
       "    <tr>\n",
       "      <th>2018-10-09</th>\n",
       "      <td>179.2000</td>\n",
       "      <td>181.0200</td>\n",
       "      <td>178.7500</td>\n",
       "      <td>179.6300</td>\n",
       "      <td>49097949</td>\n",
       "      <td>-0.013938</td>\n",
       "    </tr>\n",
       "    <tr>\n",
       "      <th>2018-10-10</th>\n",
       "      <td>178.5300</td>\n",
       "      <td>178.6200</td>\n",
       "      <td>171.5000</td>\n",
       "      <td>171.7300</td>\n",
       "      <td>114471052</td>\n",
       "      <td>-0.056848</td>\n",
       "    </tr>\n",
       "    <tr>\n",
       "      <th>2018-10-11</th>\n",
       "      <td>171.0400</td>\n",
       "      <td>173.4000</td>\n",
       "      <td>167.8100</td>\n",
       "      <td>169.6000</td>\n",
       "      <td>143084463</td>\n",
       "      <td>-0.067809</td>\n",
       "    </tr>\n",
       "    <tr>\n",
       "      <th>2018-10-12</th>\n",
       "      <td>173.9900</td>\n",
       "      <td>174.8600</td>\n",
       "      <td>170.9328</td>\n",
       "      <td>174.3200</td>\n",
       "      <td>102078388</td>\n",
       "      <td>-0.041351</td>\n",
       "    </tr>\n",
       "  </tbody>\n",
       "</table>\n",
       "</div>"
      ],
      "text/plain": [
       "                open      high       low     close     volume  a_dist50d\n",
       "date                                                                    \n",
       "2018-08-24  181.0744  182.3022  181.0345  182.1524   23136113   0.025856\n",
       "2018-08-27  183.1007  184.0091  182.7813  184.0091   29343552   0.035412\n",
       "2018-08-28  184.4683  184.6879  183.8893  184.2786   20277036   0.035985\n",
       "2018-08-29  184.5781  186.5046  184.5282  186.4048   29175591   0.046676\n",
       "2018-08-30  186.0754  187.1833  185.4565  186.0754   29315453   0.043755\n",
       "2018-08-31  185.8458  186.8440  185.6462  186.3150   28653248   0.043820\n",
       "2018-09-04  185.7660  186.0654  184.5182  185.5164   29063537   0.038123\n",
       "2018-09-05  185.2169  185.2169  182.4918  183.1207   42623326   0.023336\n",
       "2018-09-06  183.2105  183.4202  180.2559  181.4837   46091403   0.013087\n",
       "2018-09-07  180.2059  182.3421  180.1161  180.7849   46629495   0.007908\n",
       "2018-09-10  181.7931  181.9229  180.4006  181.3938   26131977   0.010119\n",
       "2018-09-11  180.6452  183.0908  180.1960  182.7913   30116460   0.016605\n",
       "2018-09-12  182.5417  182.6516  180.6851  182.2523   36203973   0.012508\n",
       "2018-09-13  183.3403  184.5481  183.3105  184.1988   31133188   0.021765\n",
       "2018-09-14  184.3285  184.6130  182.9310  183.6597   31224132   0.017528\n",
       "2018-09-17  183.3303  183.4801  180.8448  181.0145   33071197   0.002237\n",
       "2018-09-18  181.1942  183.4002  181.0744  182.5118   31877347   0.009897\n",
       "2018-09-19  182.5318  182.9710  181.1842  182.3721   31843377   0.008524\n",
       "2018-09-20  183.6198  184.6380  183.1905  184.3884   33295820   0.018741\n",
       "2018-09-21  184.9374  185.1471  183.1507  183.3802   38605353   0.012696\n",
       "2018-09-24  182.0500  183.9600  181.3000  183.8900   34945602   0.014995\n",
       "2018-09-25  183.7800  184.2800  183.1800  184.1400   25277520   0.015783\n",
       "2018-09-26  184.2500  185.9900  183.9050  184.2700   36210571   0.016016\n",
       "2018-09-27  185.0400  186.4900  184.9200  185.8300   33113269   0.023914\n",
       "2018-09-28  185.2500  186.2800  184.9700  185.7900   28076843   0.022896\n",
       "2018-10-01  186.8200  187.5300  185.7000  186.1700   27371297   0.024142\n",
       "2018-10-02  185.9500  187.1750  185.3200  185.7500   25618608   0.021100\n",
       "2018-10-03  186.5200  186.9700  185.6600  185.9500   29128683   0.021528\n",
       "2018-10-04  185.2200  185.3200  181.0600  182.3800   80557283   0.001929\n",
       "2018-10-05  182.3900  182.9700  178.4300  180.1500   83325630  -0.010368\n",
       "2018-10-08  179.3700  180.6427  176.9300  179.0500   66864481  -0.016600\n",
       "2018-10-09  179.2000  181.0200  178.7500  179.6300   49097949  -0.013938\n",
       "2018-10-10  178.5300  178.6200  171.5000  171.7300  114471052  -0.056848\n",
       "2018-10-11  171.0400  173.4000  167.8100  169.6000  143084463  -0.067809\n",
       "2018-10-12  173.9900  174.8600  170.9328  174.3200  102078388  -0.041351"
      ]
     },
     "execution_count": 5,
     "metadata": {},
     "output_type": "execute_result"
    }
   ],
   "source": [
    "a_dist50d = a['close'] / a_50d - 1\n",
    "a['a_dist50d'] = a_dist50d\n",
    "a.tail(35)"
   ]
  },
  {
   "cell_type": "markdown",
   "metadata": {},
   "source": [
    "Convert dataframe to csv file for further analysis in excel to isolate maximum and minimum values by year and month"
   ]
  },
  {
   "cell_type": "code",
   "execution_count": 6,
   "metadata": {},
   "outputs": [],
   "source": [
    "a_dist50d.to_csv('a_dist50d.csv')"
   ]
  },
  {
   "cell_type": "markdown",
   "metadata": {},
   "source": [
    "Analysis complete, convert renamed csv file back to dataframe"
   ]
  },
  {
   "cell_type": "code",
   "execution_count": 7,
   "metadata": {},
   "outputs": [],
   "source": [
    "a_dist50d_tbl = pd.read_csv('a_dist50d_tbl.csv')"
   ]
  },
  {
   "cell_type": "markdown",
   "metadata": {},
   "source": [
    "### Results"
   ]
  },
  {
   "cell_type": "markdown",
   "metadata": {},
   "source": [
    "Plot closing price data\n",
    "\n",
    "A close look at the line chart of QQQ closing prices shows where prices have moved farthest away from the 50-day moving average, both above and below the line."
   ]
  },
  {
   "cell_type": "code",
   "execution_count": 8,
   "metadata": {},
   "outputs": [
    {
     "data": {
      "text/plain": [
       "<matplotlib.legend.Legend at 0x2366161afd0>"
      ]
     },
     "execution_count": 8,
     "metadata": {},
     "output_type": "execute_result"
    },
    {
     "data": {
      "image/png": "[encoded data removed]",
      "text/plain": [
       "<matplotlib.figure.Figure at 0x23661569b70>"
      ]
     },
     "metadata": {},
     "output_type": "display_data"
    }
   ],
   "source": [
    "fig = plt.figure()\n",
    "ax = fig.add_subplot(111)\n",
    "ax.yaxis.tick_right()\n",
    "a['close'].plot(label = 'QQQ (daily close)',figsize = (12,8),title = 'QQQ Nasdaq-100 ETF Line Chart')\n",
    "a_50d.plot(label = '50-day moving average')\n",
    "plt.xlabel('Time')\n",
    "plt.legend()"
   ]
  },
  {
   "cell_type": "markdown",
   "metadata": {},
   "source": [
    "Plot ratio of distance\n",
    "\n",
    "The ratio line chart depicts the ratio of the close to the 50-day line for all daily prices in the sample and shows both extreme movements and what might be considered normal movements. The chart indicates maximum movement above the line at greater than 7.5% and below the line at -10% on two occasions. "
   ]
  },
  {
   "cell_type": "code",
   "execution_count": 9,
   "metadata": {},
   "outputs": [
    {
     "data": {
      "text/plain": [
       "<matplotlib.legend.Legend at 0x23661376978>"
      ]
     },
     "execution_count": 9,
     "metadata": {},
     "output_type": "execute_result"
    },
    {
     "data": {
      "image/png": "[encoded data removed]",
      "text/plain": [
       "<matplotlib.figure.Figure at 0x23661636198>"
      ]
     },
     "metadata": {},
     "output_type": "display_data"
    }
   ],
   "source": [
    "a_dist50d.plot(label = 'Ratio of Close to 50-day moving average (daily)',\n",
    "             figsize = (12,8),title = 'QQQ Nasdaq-100 ETF Ratio Line Chart')\n",
    "plt.ylabel('Ratio')\n",
    "plt.xlabel('Time')\n",
    "plt.legend()"
   ]
  },
  {
   "cell_type": "markdown",
   "metadata": {},
   "source": [
    "Find maximum and minimum distance from 50-day line along with associated dates\n",
    "\n",
    "During the time period studied, the QQQ ETF moved a maximum 8.3% above central tendency on 11/03/2015 and 10.5% below on 02-08-2016. Data indicates downside movement was more extreme than upside."
   ]
  },
  {
   "cell_type": "code",
   "execution_count": 10,
   "metadata": {},
   "outputs": [
    {
     "data": {
      "text/plain": [
       "(0.08320571920165931, -0.10476552387268168)"
      ]
     },
     "execution_count": 10,
     "metadata": {},
     "output_type": "execute_result"
    }
   ],
   "source": [
    "np.max(a_dist50d), np.min(a_dist50d)"
   ]
  },
  {
   "cell_type": "code",
   "execution_count": 11,
   "metadata": {},
   "outputs": [
    {
     "data": {
      "text/plain": [
       "('2015-11-03', '2016-02-08')"
      ]
     },
     "execution_count": 11,
     "metadata": {},
     "output_type": "execute_result"
    }
   ],
   "source": [
    "a_dist50d.idxmax(), a_dist50d.idxmin()"
   ]
  },
  {
   "cell_type": "markdown",
   "metadata": {},
   "source": [
    "Plot distribution of ratios\n",
    "\n",
    "The distribution plot displays frequency of price movement. As noted above, .083 and -.105 lie at the tails of the plot. The table of descriptive statistics reveals the mean at 1.68%, median at 2.02% and half of all price movement residing in the .22% to 3.8% range indicating that price spends more time above the line than below in the sample. "
   ]
  },
  {
   "cell_type": "code",
   "execution_count": 12,
   "metadata": {},
   "outputs": [
    {
     "data": {
      "text/plain": [
       "Text(0.5,0,'Ratio')"
      ]
     },
     "execution_count": 12,
     "metadata": {},
     "output_type": "execute_result"
    },
    {
     "data": {
      "image/png": "[encoded data removed]",
      "text/plain": [
       "<matplotlib.figure.Figure at 0x236616ea208>"
      ]
     },
     "metadata": {},
     "output_type": "display_data"
    }
   ],
   "source": [
    "a_dist50d.plot.hist()\n",
    "plt.xlabel('Ratio')"
   ]
  },
  {
   "cell_type": "code",
   "execution_count": 13,
   "metadata": {},
   "outputs": [
    {
     "data": {
      "text/plain": [
       "count    1211.000000\n",
       "mean        0.016840\n",
       "std         0.029698\n",
       "min        -0.104766\n",
       "25%         0.002249\n",
       "50%         0.020273\n",
       "75%         0.038120\n",
       "max         0.083206\n",
       "Name: close, dtype: float64"
      ]
     },
     "execution_count": 13,
     "metadata": {},
     "output_type": "execute_result"
    }
   ],
   "source": [
    "a_dist50d.describe()"
   ]
  },
  {
   "cell_type": "markdown",
   "metadata": {},
   "source": [
    "Plot box plot\n",
    "\n",
    "The box plot below indicates a range of movement of about 13%, excluding outliers. If we include outliers, then total range of movement is 18.8%. Small circles are depicted as outliers as a result of the [1.5 times the IQR rule](https://www.purplemath.com/modules/boxwhisk3.htm) because those values are considered to be too far away from the central cluster of points in the sample.\n",
    "\n",
    "The speculator will notice that an equivalent number of values above the median are less dispersed than the same number of values below the median highlighting the usually quick and wider movements to the downside, i.e., climbing the proverbial \"wall of worry\" to the upside contrasted with flushes to the downside. "
   ]
  },
  {
   "cell_type": "code",
   "execution_count": 14,
   "metadata": {},
   "outputs": [
    {
     "data": {
      "text/plain": [
       "<matplotlib.axes._subplots.AxesSubplot at 0x23661ac52e8>"
      ]
     },
     "execution_count": 14,
     "metadata": {},
     "output_type": "execute_result"
    },
    {
     "data": {
      "image/png": "[encoded data removed]",
      "text/plain": [
       "<matplotlib.figure.Figure at 0x23661aa9978>"
      ]
     },
     "metadata": {},
     "output_type": "display_data"
    }
   ],
   "source": [
    "a['a_dist50d'].plot(kind = 'box', figsize = (5,7), colormap = 'jet')"
   ]
  },
  {
   "cell_type": "markdown",
   "metadata": {},
   "source": [
    "Plot two box plots\n",
    "\n",
    "The box plots below display exclusively maximum and minimum values by month during the sample period with the ratio of closes to the 50-day line depicted on the y-axis. Note the negative data points for max movements and the positive data points for min movements: price traded below the 50-day line during the entire monthly observation, hence the negative max value; during monthly observations where price traded above the 50-day line we can see positive min values.  "
   ]
  },
  {
   "cell_type": "code",
   "execution_count": 15,
   "metadata": {},
   "outputs": [
    {
     "data": {
      "text/plain": [
       "<matplotlib.axes._subplots.AxesSubplot at 0x23661ad3ef0>"
      ]
     },
     "execution_count": 15,
     "metadata": {},
     "output_type": "execute_result"
    },
    {
     "data": {
      "image/png": "[encoded data removed]",
      "text/plain": [
       "<matplotlib.figure.Figure at 0x23661ac5160>"
      ]
     },
     "metadata": {},
     "output_type": "display_data"
    }
   ],
   "source": [
    "a_dist50d_tbl[['Max dist50d', 'Min dist50d']].plot.box(figsize = (5, 7), colormap = 'jet')"
   ]
  },
  {
   "cell_type": "markdown",
   "metadata": {},
   "source": [
    "Jan 2016 and Jan 2018 are examples of prices trading above and below the line for the entire month resulting in positive min and negative max values as depicted in the box plot above."
   ]
  },
  {
   "cell_type": "code",
   "execution_count": 16,
   "metadata": {},
   "outputs": [
    {
     "data": {
      "text/html": [
       "<div>\n",
       "<style scoped>\n",
       "    .dataframe tbody tr th:only-of-type {\n",
       "        vertical-align: middle;\n",
       "    }\n",
       "\n",
       "    .dataframe tbody tr th {\n",
       "        vertical-align: top;\n",
       "    }\n",
       "\n",
       "    .dataframe thead th {\n",
       "        text-align: right;\n",
       "    }\n",
       "</style>\n",
       "<table border=\"1\" class=\"dataframe\">\n",
       "  <thead>\n",
       "    <tr style=\"text-align: right;\">\n",
       "      <th></th>\n",
       "      <th>Month</th>\n",
       "      <th>Year</th>\n",
       "      <th>Max dist50d</th>\n",
       "      <th>Min dist50d</th>\n",
       "    </tr>\n",
       "  </thead>\n",
       "  <tbody>\n",
       "    <tr>\n",
       "      <th>0</th>\n",
       "      <td>Jan</td>\n",
       "      <td>2014</td>\n",
       "      <td>0.037866</td>\n",
       "      <td>-0.012420</td>\n",
       "    </tr>\n",
       "    <tr>\n",
       "      <th>1</th>\n",
       "      <td>Jan</td>\n",
       "      <td>2015</td>\n",
       "      <td>0.011176</td>\n",
       "      <td>-0.032263</td>\n",
       "    </tr>\n",
       "    <tr>\n",
       "      <th>2</th>\n",
       "      <td>Jan</td>\n",
       "      <td>2016</td>\n",
       "      <td>-0.029317</td>\n",
       "      <td>-0.094365</td>\n",
       "    </tr>\n",
       "    <tr>\n",
       "      <th>3</th>\n",
       "      <td>Jan</td>\n",
       "      <td>2017</td>\n",
       "      <td>0.048350</td>\n",
       "      <td>0.015048</td>\n",
       "    </tr>\n",
       "    <tr>\n",
       "      <th>4</th>\n",
       "      <td>Jan</td>\n",
       "      <td>2018</td>\n",
       "      <td>0.077633</td>\n",
       "      <td>0.029798</td>\n",
       "    </tr>\n",
       "    <tr>\n",
       "      <th>5</th>\n",
       "      <td>Feb</td>\n",
       "      <td>2014</td>\n",
       "      <td>0.039269</td>\n",
       "      <td>-0.021649</td>\n",
       "    </tr>\n",
       "    <tr>\n",
       "      <th>6</th>\n",
       "      <td>Feb</td>\n",
       "      <td>2015</td>\n",
       "      <td>0.050342</td>\n",
       "      <td>-0.010228</td>\n",
       "    </tr>\n",
       "    <tr>\n",
       "      <th>7</th>\n",
       "      <td>Feb</td>\n",
       "      <td>2016</td>\n",
       "      <td>-0.011342</td>\n",
       "      <td>-0.104766</td>\n",
       "    </tr>\n",
       "    <tr>\n",
       "      <th>8</th>\n",
       "      <td>Feb</td>\n",
       "      <td>2017</td>\n",
       "      <td>0.058371</td>\n",
       "      <td>0.037902</td>\n",
       "    </tr>\n",
       "    <tr>\n",
       "      <th>9</th>\n",
       "      <td>Feb</td>\n",
       "      <td>2018</td>\n",
       "      <td>0.050556</td>\n",
       "      <td>-0.042938</td>\n",
       "    </tr>\n",
       "  </tbody>\n",
       "</table>\n",
       "</div>"
      ],
      "text/plain": [
       "  Month  Year  Max dist50d  Min dist50d\n",
       "0   Jan  2014     0.037866    -0.012420\n",
       "1   Jan  2015     0.011176    -0.032263\n",
       "2   Jan  2016    -0.029317    -0.094365\n",
       "3   Jan  2017     0.048350     0.015048\n",
       "4   Jan  2018     0.077633     0.029798\n",
       "5   Feb  2014     0.039269    -0.021649\n",
       "6   Feb  2015     0.050342    -0.010228\n",
       "7   Feb  2016    -0.011342    -0.104766\n",
       "8   Feb  2017     0.058371     0.037902\n",
       "9   Feb  2018     0.050556    -0.042938"
      ]
     },
     "execution_count": 16,
     "metadata": {},
     "output_type": "execute_result"
    }
   ],
   "source": [
    "a_dist50d_tbl[:10] "
   ]
  },
  {
   "cell_type": "markdown",
   "metadata": {},
   "source": [
    "Maximum distance above the 50-day line by year"
   ]
  },
  {
   "cell_type": "code",
   "execution_count": 17,
   "metadata": {},
   "outputs": [
    {
     "data": {
      "text/plain": [
       "Year\n",
       "2013    0.047264\n",
       "2014    0.065497\n",
       "2015    0.083206\n",
       "2016    0.065573\n",
       "2017    0.058426\n",
       "2018    0.077633\n",
       "Name: Max dist50d, dtype: float64"
      ]
     },
     "execution_count": 17,
     "metadata": {},
     "output_type": "execute_result"
    }
   ],
   "source": [
    "a_dist50d_tbl.groupby('Year')['Max dist50d'].max() "
   ]
  },
  {
   "cell_type": "markdown",
   "metadata": {},
   "source": [
    "Minimum or lowest distance below the 50-day line by year"
   ]
  },
  {
   "cell_type": "code",
   "execution_count": 18,
   "metadata": {},
   "outputs": [
    {
     "data": {
      "text/plain": [
       "Year\n",
       "2013    0.039389\n",
       "2014   -0.061228\n",
       "2015   -0.104645\n",
       "2016   -0.104766\n",
       "2017   -0.018764\n",
       "2018   -0.067809\n",
       "Name: Min dist50d, dtype: float64"
      ]
     },
     "execution_count": 18,
     "metadata": {},
     "output_type": "execute_result"
    }
   ],
   "source": [
    "a_dist50d_tbl.groupby('Year')['Min dist50d'].min()"
   ]
  },
  {
   "cell_type": "markdown",
   "metadata": {},
   "source": [
    "### Summary and Discussion"
   ]
  },
  {
   "cell_type": "markdown",
   "metadata": {},
   "source": [
    "The goal of this study was to compute and indentify how far the QQQ, NASDAQ-100 ETF, traded above or below the 50-day moving average based on closing prices during the 2013 to 2018 period. The maximum distance above the line was 8.3% and the minimum value or greatest distance below the line was 10.5%, on 11/03/2015 and 02-08-2016, respectively.\n",
    "\n",
    "75% of all closing prices during the period traded above the 50-day line from .22% to a maximum of 8.3%. 25% percent of the time prices closed between .22% above the line and 10.5% below the line. As of the 10/12/2018 close, QQQ closed -4.1% below the 50-day line.\n",
    "\n",
    "Limitations to this study include number of observations. Further study may include historical data going back ten years or more. Questions for further study include: At what ratio of close to the 50-day line do prices mean revert or consolidate? What are the most probable ratios where prices may revert to the mean? When reverting to the mean how often do prices go through the 50-day line? A study of the ratios at the peaks and valleys. "
   ]
  },
  {
   "cell_type": "code",
   "execution_count": null,
   "metadata": {},
   "outputs": [],
   "source": []
  }
 ],
 "metadata": {
  "kernelspec": {
   "display_name": "Python 3",
   "language": "python",
   "name": "python3"
  },
  "language_info": {
   "codemirror_mode": {
    "name": "ipython",
    "version": 3
   },
   "file_extension": ".py",
   "mimetype": "text/x-python",
   "name": "python",
   "nbconvert_exporter": "python",
   "pygments_lexer": "ipython3",
   "version": "3.6.4"
  }
 },
 "nbformat": 4,
 "nbformat_minor": 2
}
